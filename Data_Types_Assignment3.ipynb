{
  "nbformat": 4,
  "nbformat_minor": 0,
  "metadata": {
    "colab": {
      "provenance": [],
      "authorship_tag": "ABX9TyPllfxyfM438l/GaiaVVI3z",
      "include_colab_link": true
    },
    "kernelspec": {
      "name": "python3",
      "display_name": "Python 3"
    },
    "language_info": {
      "name": "python"
    }
  },
  "cells": [
    {
      "cell_type": "markdown",
      "metadata": {
        "id": "view-in-github",
        "colab_type": "text"
      },
      "source": [
        "<a href=\"https://colab.research.google.com/github/denis-mwangi/PYTHON-Assignments/blob/main/Data_Types_Assignment3.ipynb\" target=\"_parent\"><img src=\"https://colab.research.google.com/assets/colab-badge.svg\" alt=\"Open In Colab\"/></a>"
      ]
    },
    {
      "cell_type": "markdown",
      "source": [
        "# Question 1\n",
        "-    Checking data types"
      ],
      "metadata": {
        "id": "t2Z0Kh8u0bGP"
      }
    },
    {
      "cell_type": "code",
      "execution_count": null,
      "metadata": {
        "colab": {
          "base_uri": "https://localhost:8080/"
        },
        "id": "suEUt8jhvdRm",
        "outputId": "d1d0a156-f0d6-4fa1-e728-c343fea44253"
      },
      "outputs": [
        {
          "output_type": "stream",
          "name": "stdout",
          "text": [
            "1.0\n",
            "<class 'float'>\n",
            "1\n",
            "<class 'int'>\n"
          ]
        }
      ],
      "source": [
        "# Define a float\n",
        "y = 1.\n",
        "print(y)\n",
        "print(type(y))\n",
        "\n",
        "# Convert float to integer with the int function\n",
        "z = int(y)\n",
        "print(z)\n",
        "print(type(z))"
      ]
    },
    {
      "cell_type": "markdown",
      "source": [
        "# Question 2"
      ],
      "metadata": {
        "id": "4eKsnGQa0yU1"
      }
    },
    {
      "cell_type": "code",
      "source": [
        "print(int(1.2321))\n",
        "print(int(1.747))\n",
        "print(int(-3.94535))\n",
        "print(int(-2.19774))"
      ],
      "metadata": {
        "colab": {
          "base_uri": "https://localhost:8080/"
        },
        "id": "2CYNDKtF02jB",
        "outputId": "a28743b9-88d7-4c5d-9ac0-2f0e3a2b4824"
      },
      "execution_count": null,
      "outputs": [
        {
          "output_type": "stream",
          "name": "stdout",
          "text": [
            "1\n",
            "1\n",
            "-3\n",
            "-2\n"
          ]
        }
      ]
    },
    {
      "cell_type": "markdown",
      "source": [
        "Negative floats are always rounded UP to the closest integer (for instance, both -1.1 and -1.9 are rounded up to -1). Positive floats are always rounded DOWN to the closest integer (for instance, 2.1 and 2.9 are rounded down to 2)."
      ],
      "metadata": {
        "id": "_87Jjfce06mB"
      }
    },
    {
      "cell_type": "markdown",
      "source": [
        "# Question 3"
      ],
      "metadata": {
        "id": "u3LcvlJT0_9u"
      }
    },
    {
      "cell_type": "code",
      "source": [
        "print(3 * True)\n",
        "print(-3.1 * True)\n",
        "print(type(\"abc\" * False))\n",
        "print(len(\"abc\" * False))"
      ],
      "metadata": {
        "id": "NFMpigop1M95"
      },
      "execution_count": null,
      "outputs": []
    },
    {
      "cell_type": "markdown",
      "source": [
        "When you multiple an integer or float by a boolean with value True, it just returns that same integer or float (and is equivalent to multiplying by 1). If you multiply an integer or float by a boolean with value False, it always returns 0. This is true for both positive and negative numbers. If you multiply a string by a boolean with value True, it just returns that same string. And if you multiply a string by a boolean with value False, it returns an empty string (or a string with length zero)."
      ],
      "metadata": {
        "id": "EEmokeCw1PSt"
      }
    },
    {
      "cell_type": "markdown",
      "source": [
        "# Question 4\n",
        "**Pseudo code**\n",
        "\n",
        "\n",
        "---\n",
        "\n",
        "\n",
        "A function that estimates the value of a house that has bedrooms,\n",
        "bathrooms and basement\n",
        "1.  We create a function `get_expected_cost(beds, baths, has_basement)`.\n",
        "2.  We create a variable value that calculates the value of the house.\n",
        "      - The expected value of a house with 0 bedrooms, 0 bathrooms and has no basement is $80000.\n",
        "      - each bedroom adds 30000 to the expected cost,\n",
        "      - each bathroom adds 10000 to the expected cost, and\n",
        "      - a basement adds 40000 to the expected cost.\n",
        "3.  We return value\n",
        "4.  Create a variable `estimated_cost` that calls the function `get_expected_cost` with all the aguments.\n",
        "5.  Print the total cost.\n",
        "\n",
        "\n",
        "---\n",
        "**Test Data**\n",
        "- a house with 2 bedrooms, 1 bathroom, and a basement has an expected cost of 80000 + 2*30000 + 10000 + 40000 = 190000.\n",
        "- a house with 1 bedroom, 1 bathroom, and no basement has an expected cost of 80000 + 30000 + 10000 = 120000.\n"
      ],
      "metadata": {
        "id": "WuvihWWp7KmI"
      }
    },
    {
      "cell_type": "code",
      "source": [
        "def get_expected_cost(beds, baths, has_basement):\n",
        "    value = 80000 + 30000 * beds + 10000 * baths + 40000 * has_basement\n",
        "    return value\n",
        "estimated_value = get_expected_cost(2, 1, True)\n",
        "print(f\"The total cost of this house is ${estimated_value}\")"
      ],
      "metadata": {
        "colab": {
          "base_uri": "https://localhost:8080/"
        },
        "id": "6lhOXC6a9MN4",
        "outputId": "2418c5ed-520b-4529-cb08-f70dc645b709"
      },
      "execution_count": null,
      "outputs": [
        {
          "output_type": "stream",
          "name": "stdout",
          "text": [
            "The total cost of this house is $190000\n"
          ]
        }
      ]
    },
    {
      "cell_type": "markdown",
      "source": [
        "# Question 4"
      ],
      "metadata": {
        "id": "xJucI5V7AH_O"
      }
    },
    {
      "cell_type": "code",
      "source": [
        "print(False + False)\n",
        "print(True + False)\n",
        "print(False + True)\n",
        "print(True + True)\n",
        "print(False + True + True + True)"
      ],
      "metadata": {
        "id": "MMUglFnvAZ7T"
      },
      "execution_count": null,
      "outputs": []
    },
    {
      "cell_type": "markdown",
      "source": [
        "When you add booleans, adding False is equivalent to adding 0, and adding True is equivalent to adding 1.\n",
        "\n"
      ],
      "metadata": {
        "id": "N0Of0GuJAcr1"
      }
    },
    {
      "cell_type": "markdown",
      "source": [
        "# QUESTION 5\n",
        "You own an online shop where you sell rings with custom engravings.  You offer both gold plated and solid gold rings.\n",
        "- Gold plated rings have a base cost of $50, and you charge $7 per engraved unit.  \n",
        "- Solid gold rings have a base cost of $100, and you charge $10 per engraved unit.\n",
        "- Spaces and punctuation are counted as engraved units.\n",
        "\n",
        "# Pseudo code\n",
        "1. Create a function `cost_of_project(engraving, solid_gold)` that takes the two arguments.\n",
        "2. Create a variable cost that calculates the `cost` of the gold ring.\n",
        "3. create other variables `project_one` and `project_two` that calls the function and calculates the total cost.\n",
        "4. print the output of the two variables above.\n",
        "\n",
        "\n"
      ],
      "metadata": {
        "id": "9G6DmfFeCviw"
      }
    },
    {
      "cell_type": "code",
      "source": [
        "def cost_of_project(engraving, solid_gold):\n",
        "    cost = solid_gold * (100 + 10 * len(engraving)) + (not solid_gold) * (50 + 7 * len(engraving))\n",
        "    return cost\n",
        "project_one = cost_of_project(\"Charlie+Denver\", True)\n",
        "print(f\"The cost of the first project is ${project_one}.\")\n",
        "project_two = cost_of_project(\"08/10/2000\", False)\n",
        "print(f\"The cost of the second project is ${project_two}.\")"
      ],
      "metadata": {
        "colab": {
          "base_uri": "https://localhost:8080/"
        },
        "id": "VydEiLxpEkfZ",
        "outputId": "bbb9d73f-f457-47cf-fe6b-9e1a0b92e7c9"
      },
      "execution_count": null,
      "outputs": [
        {
          "output_type": "stream",
          "name": "stdout",
          "text": [
            "The cost of the first project is $240.\n",
            "The cost of the second project is $120.\n"
          ]
        }
      ]
    }
  ]
}