{
  "nbformat": 4,
  "nbformat_minor": 0,
  "metadata": {
    "colab": {
      "provenance": [],
      "authorship_tag": "ABX9TyOfBGIrMTumQNwypF4f/R16",
      "include_colab_link": true
    },
    "kernelspec": {
      "name": "python3",
      "display_name": "Python 3"
    },
    "language_info": {
      "name": "python"
    }
  },
  "cells": [
    {
      "cell_type": "markdown",
      "metadata": {
        "id": "view-in-github",
        "colab_type": "text"
      },
      "source": [
        "<a href=\"https://colab.research.google.com/github/denis-mwangi/PYTHON-Assignments/blob/main/Conditions_and_conditional_statements_Assignment4.ipynb\" target=\"_parent\"><img src=\"https://colab.research.google.com/assets/colab-badge.svg\" alt=\"Open In Colab\"/></a>"
      ]
    },
    {
      "cell_type": "markdown",
      "source": [
        "# QUESTION 1\n",
        "**A function that gets the grade of a student**\n",
        "\n",
        "\n",
        "---\n",
        "\n",
        "**Pseudo code**\n",
        "1. Create a function `get_grade(score)` with an argument score.\n",
        "2. Start an if condtion:\n",
        "    - if `grade` is greater than 89 then grade is A.\n",
        "    - elif `grade` is greater than 79 then then the grade is B.\n",
        "    - elif `grade` is greater than 69 then then the grade is C.\n",
        "    - elif `grade` is greater than 59 then then the grade is D.\n",
        "    - else the `grade` is F.\n",
        "3. Create a variable `student_score` that gets the input of the students score.\n",
        "4. Create a variable `grade` that calls the function `get_grade` with argument `student_score`.\n",
        "5. Print the students grade."
      ],
      "metadata": {
        "id": "rnJVOaQUPIRG"
      }
    },
    {
      "cell_type": "code",
      "source": [
        "def get_grade(score):\n",
        "    if score > 89:\n",
        "        grade = \"A\"\n",
        "    elif score > 79:\n",
        "        grade = \"B\"\n",
        "    elif score > 69:\n",
        "        grade = \"C\"\n",
        "    elif score > 59:\n",
        "        grade = \"D\"\n",
        "    else:\n",
        "        grade = \"F\"\n",
        "    return grade\n",
        "student_score = float(input(\"Enter your score: \"))\n",
        "grade = get_grade(student_score)\n",
        "print(f\"Your grade is {grade}\")"
      ],
      "metadata": {
        "colab": {
          "base_uri": "https://localhost:8080/"
        },
        "id": "fRQluqfVQ7oj",
        "outputId": "de34f1ff-2135-497e-e132-74c8da8ff409"
      },
      "execution_count": null,
      "outputs": [
        {
          "output_type": "stream",
          "name": "stdout",
          "text": [
            "Enter your score: 91.2\n",
            "Your grade is A\n"
          ]
        }
      ]
    },
    {
      "cell_type": "markdown",
      "source": [
        "# QUESTION 2\n",
        "A function that gets the cost of a ring.\n",
        "\n",
        "\n",
        "---\n",
        "\n",
        "**Pseudo code**\n",
        "1. Create a function `cost_of_project()` that takes in two arguments; `engraving` and `solid_gold`.\n",
        "2. Use an if statement to define whether the ring is solid gold or not.\n",
        "  - Gold plated rings have a base cost of $50, and you charge $7 per engraving.\n",
        "  - Solid gold rings have a base cost of $100, and you charge $10 per engraved unit.\n",
        "  - Spaces and punctuation are counted as engraved units.\n",
        "3. Use a variable cost that calculates the cost of the ring.\n",
        "4. Print the costs of sample rings."
      ],
      "metadata": {
        "id": "HTi-reBXTUMc"
      }
    },
    {
      "cell_type": "code",
      "source": [
        "def cost_of_project(engraving, solid_gold):\n",
        "    if solid_gold == True:\n",
        "        cost = 100 + (len(engraving) * 10)\n",
        "    else:\n",
        "        cost = 50 + (len(engraving) * 7)\n",
        "    return cost\n",
        "project_one = cost_of_project(\"Charlie+Denver\", True)\n",
        "print(f\"The cost of the first project is ${project_one}.\")\n",
        "project_two = cost_of_project(\"08/10/2000\", False)\n",
        "print(f\"The cost of the second project is ${project_two}.\")"
      ],
      "metadata": {
        "colab": {
          "base_uri": "https://localhost:8080/"
        },
        "id": "nnErwqDPVL-9",
        "outputId": "1b67e02e-4135-4d73-b447-b30fdcbeed47"
      },
      "execution_count": null,
      "outputs": [
        {
          "output_type": "stream",
          "name": "stdout",
          "text": [
            "The cost of the first project is $240.\n",
            "The cost of the second project is $120.\n"
          ]
        }
      ]
    },
    {
      "cell_type": "markdown",
      "source": [
        "# Question 3\n",
        "Calculating a water bill\n",
        "\n",
        "\n",
        "---\n",
        "\n",
        "**Pseudo code**\n",
        "1. Create a function `get_water_bill` that takes the argument `num_gallons`.\n",
        "2. use an if...elif...else statement to calculate the water bill according to the amount of gallons used.\n",
        "    - If the number of gallons used is less or equal to 8000 then the it should be billed at $5.\n",
        "    - elif the number of gallons used is less or equal to 22000 then it should be billed at $6.\n",
        "    - elif the nuber of gallons is less or equal to 30000 then it should be billed at $7.\n",
        "    - else it should be billed at $10.\n",
        "  3. Create a variable customer that prmpts the customer to input the number of gallons used.\n",
        "  4. create a variable customer bill that calls the function get_water_bill and is rounded off to 4sf.\n",
        "  5. Print the total bill of the customer."
      ],
      "metadata": {
        "id": "cqnaZxFPZrgJ"
      }
    },
    {
      "cell_type": "code",
      "source": [
        "def get_water_bill(num_gallons):\n",
        "    if num_gallons <= 8000:\n",
        "        bill = (num_gallons/1000) * 5\n",
        "    elif num_gallons <= 22000:\n",
        "        bill = (num_gallons/1000) * 6\n",
        "    elif num_gallons <= 30000:\n",
        "        bill = (num_gallons/1000) * 7\n",
        "    else:\n",
        "        bill = (num_gallons/1000) * 10\n",
        "    return bill\n",
        "customer = int(input(\"Enter the number of gallons used: \"))\n",
        "customer_bill = get_water_bill(customer)\n",
        "customer_bill = round(customer_bill, 4)\n",
        "print(f\"The customer's bill is ${customer_bill}.\")"
      ],
      "metadata": {
        "colab": {
          "base_uri": "https://localhost:8080/"
        },
        "id": "jmvOrapTbUBc",
        "outputId": "ceb64a33-ca3f-4fa7-e77f-abe6333c8d54"
      },
      "execution_count": null,
      "outputs": [
        {
          "output_type": "stream",
          "name": "stdout",
          "text": [
            "Enter the number of gallons used: 1001\n",
            "The customer's bill is $5.005.\n"
          ]
        }
      ]
    },
    {
      "cell_type": "markdown",
      "source": [
        "# QUESTION 4\n",
        "Data plan cost\n",
        "\n",
        "\n",
        "---\n",
        "\n",
        "**Pseudo code**\n",
        "1. Create a function `get_phone_bill` that takes in the arguments `gb`.\n",
        "2. use an if condition to check whether the usage is greater than 15 gb.\n",
        "    - if it is greater than 15 then it should be `(gb - 15)* 100`.\n",
        "3. prompt the user to enter the value of gb used and store it in a variable customer.\n",
        "4. create a variable customer_bill that calls the function with an argument customer.\n",
        "5. print the total bill."
      ],
      "metadata": {
        "id": "w4q5KiENeIi_"
      }
    },
    {
      "cell_type": "code",
      "source": [
        "def get_phone_bill(gb):\n",
        "    if gb <= 15:\n",
        "        bill = 100\n",
        "    else:\n",
        "        bill = 100 + (gb - 15) * 100\n",
        "    return bill\n",
        "customer = float(input(\"Enter the number of gb used: \"))\n",
        "customer_bill = get_phone_bill(customer)\n",
        "customer_bill = round(customer_bill,2)\n",
        "print(f\"The customer's bill is ${customer_bill}.\")"
      ],
      "metadata": {
        "colab": {
          "base_uri": "https://localhost:8080/"
        },
        "id": "IiZ5S7zAfKmq",
        "outputId": "0d44b603-ea80-4fd3-fb7c-27541ef89552"
      },
      "execution_count": null,
      "outputs": [
        {
          "output_type": "stream",
          "name": "stdout",
          "text": [
            "Enter the number of gb used: 15.1\n",
            "The customer's bill is $110.0.\n"
          ]
        }
      ]
    }
  ]
}