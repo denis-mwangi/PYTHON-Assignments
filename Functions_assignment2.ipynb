{
  "nbformat": 4,
  "nbformat_minor": 0,
  "metadata": {
    "colab": {
      "provenance": [],
      "authorship_tag": "ABX9TyP0gQw2Zw4/RNYX79zWXLL4",
      "include_colab_link": true
    },
    "kernelspec": {
      "name": "python3",
      "display_name": "Python 3"
    },
    "language_info": {
      "name": "python"
    }
  },
  "cells": [
    {
      "cell_type": "markdown",
      "metadata": {
        "id": "view-in-github",
        "colab_type": "text"
      },
      "source": [
        "<a href=\"https://colab.research.google.com/github/denis-mwangi/PYTHON-Assignments/blob/main/Functions_assignment2.ipynb\" target=\"_parent\"><img src=\"https://colab.research.google.com/assets/colab-badge.svg\" alt=\"Open In Colab\"/></a>"
      ]
    },
    {
      "cell_type": "markdown",
      "source": [
        "**Question 1**"
      ],
      "metadata": {
        "id": "1peQSTKRj9AC"
      }
    },
    {
      "cell_type": "markdown",
      "source": [
        "**Predicting the price of a house**"
      ],
      "metadata": {
        "id": "8WjAd8tbgmes"
      }
    },
    {
      "cell_type": "markdown",
      "source": [
        "First we create a function get_expected_cost(), that has two arguments *beds* and *baths*."
      ],
      "metadata": {
        "id": "8Oway1U7g7OF"
      }
    },
    {
      "cell_type": "markdown",
      "source": [
        "We create a variable **value** thats holds the calculation of the total house pricing.\n",
        "return value\n",
        "\n",
        "\n",
        "\n",
        "\n"
      ],
      "metadata": {
        "id": "RrW7qytOhnxd"
      }
    },
    {
      "cell_type": "markdown",
      "source": [
        "create a variable house_price that holds the call fuction and then print the price of the house"
      ],
      "metadata": {
        "id": "ciJF0ZLbjbAZ"
      }
    },
    {
      "cell_type": "code",
      "source": [
        "def get_expected_cost(beds,baths):\n",
        "  value = 80000 + (beds * 30000) + (baths * 10000)\n",
        "  return value\n",
        "price = get_expected_cost(1,1)\n",
        "print(f\"The price of this house is {price}.\")"
      ],
      "metadata": {
        "colab": {
          "base_uri": "https://localhost:8080/"
        },
        "id": "AmpKqOgSiy_u",
        "outputId": "d6594221-03c0-44bb-84bc-8b6ab3b07df5"
      },
      "execution_count": null,
      "outputs": [
        {
          "output_type": "stream",
          "name": "stdout",
          "text": [
            "The price of this house is 120000.\n"
          ]
        }
      ]
    },
    {
      "cell_type": "markdown",
      "source": [
        "# **Question 2**"
      ],
      "metadata": {
        "id": "nFOQOU8cks75"
      }
    },
    {
      "cell_type": "markdown",
      "source": [
        "Question 2\n",
        "You are thinking about buying a home and want to get an idea of how much you will spend, based on the number of bedrooms and bathrooms. You are trying to decide between four different options:\n",
        "\n",
        "Option 1: house with two bedrooms and three bathrooms\n",
        "Option 2: house with three bedrooms and two bathrooms\n",
        "Option 3: house with three bedrooms and three bathrooms\n",
        "Option 4: house with three bedrooms and four bathrooms\n",
        "Use the get_expected_cost() function you defined in question 1 to set option_1, option_2, option_3, and option_4 to the expected cost of each option."
      ],
      "metadata": {
        "id": "d3GWjrZ4k0v1"
      }
    },
    {
      "cell_type": "markdown",
      "source": [
        "# Pseudo code\n",
        "\n",
        "*   create the fuction get_expected_cost with the two arguments *beds* and *baths*.\n",
        "*   initiate a variable value that calculates the value of the house given the two arguments\n",
        "*    return value\n",
        "*    create variables option_one - option_four giving them the value get_expected_cost() with the appropiate arguments for each.\n",
        "*    print the outputs of the variables above\n",
        "\n"
      ],
      "metadata": {
        "id": "ORNkza7fmH0o"
      }
    },
    {
      "cell_type": "code",
      "source": [
        "def get_expected_cost(beds,baths):\n",
        "  value = 80000 + (beds * 30000) + (baths * 10000)\n",
        "  return value\n",
        "option_one = get_expected_cost(2,3)\n",
        "option_two = get_expected_cost(3,2)\n",
        "option_three = get_expected_cost(3,3)\n",
        "option_four = get_expected_cost(3,4)\n",
        "\n",
        "print(option_one)\n",
        "print(option_two)\n",
        "print(option_three)\n",
        "print(option_four)"
      ],
      "metadata": {
        "colab": {
          "base_uri": "https://localhost:8080/"
        },
        "id": "xQUYKFzQk5kG",
        "outputId": "113c8fdb-e7e9-47b0-8704-3141a072522e"
      },
      "execution_count": null,
      "outputs": [
        {
          "output_type": "stream",
          "name": "stdout",
          "text": [
            "170000\n",
            "190000\n",
            "200000\n",
            "210000\n"
          ]
        }
      ]
    },
    {
      "cell_type": "markdown",
      "source": [
        "# Question 3\n",
        "You're a home decorator, and you'd like to use Python to streamline some of your work. Specifically, you're creating a tool that you intend to use to calculate the cost of painting a room.\n",
        "\n",
        "As a first step, define a function get_cost() that takes as input:\n",
        "\n",
        "sqft_walls = total square feet of walls to be painted\n",
        "sqft_ceiling = square feet of ceiling to be painted\n",
        "sqft_per_gallon = number of square feet that you can cover with one gallon of paint\n",
        "cost_per_gallon = cost (in dollars) of one gallon of paint\n",
        "It should return the cost (in dollars) of putting one coat of paint on all walls and the ceiling. Assume you can buy the exact amount of paint that you need, so you can buy partial gallons (e.g., if you need 7.523 gallons, you can buy that exact amount, instead of needing to buy 8 gallons and waste some paint). Do not round your answer."
      ],
      "metadata": {
        "id": "g553qfFjpudO"
      }
    },
    {
      "cell_type": "markdown",
      "source": [
        "# pseudo code\n",
        "*    define a function get_cost that takes inputs as: sqft_walls,\n",
        "sqft_ceiling,\n",
        "sqft_per_gallon,\n",
        "cost_per_gallon.\n",
        "*    create a variable cost that calculates the cost of painting\n",
        "*    return cost"
      ],
      "metadata": {
        "id": "-T332Q1mqDZB"
      }
    },
    {
      "cell_type": "code",
      "source": [
        "def get_cost(sqft_walls, sqft_ceiling, sqft_per_gallon, cost_per_gallon):\n",
        "    cost = ((sqft_walls +sqft_ceiling)/sqft_per_gallon) * cost_per_gallon\n",
        "    return cost"
      ],
      "metadata": {
        "id": "YYr2TMRDq-38"
      },
      "execution_count": null,
      "outputs": []
    },
    {
      "cell_type": "markdown",
      "source": [
        "# Question 4\n",
        "Use the get_cost() function you defined in Question 3 to calculate the cost of applying one coat of paint to a room with:\n",
        "\n",
        "432 square feet of walls, and\n",
        "144 square feet of ceiling.\n",
        "Assume that one gallon of paint covers 400 square feet and costs $15. As in Question 3, assume you can buy partial gallons of paint. Do not round your answer."
      ],
      "metadata": {
        "id": "zDxSbDREruBv"
      }
    },
    {
      "cell_type": "markdown",
      "source": [
        "# Pseudo code\n",
        "*  use the function created above.\n",
        "*  create a new variable \"project_cost\" that calls the function and takes in the arguments\n",
        "*  print project cost"
      ],
      "metadata": {
        "id": "g4rDQIyEtE36"
      }
    },
    {
      "cell_type": "code",
      "source": [
        "def get_cost(sqft_walls, sqft_ceiling, sqft_per_gallon, cost_per_gallon):\n",
        "    cost = ((sqft_walls + sqft_ceiling)/sqft_per_gallon) * cost_per_gallon\n",
        "    return cost\n",
        "project_cost = get_cost(432, 144, 400, 15)\n",
        "print(f\"The project cost is $ {project_cost}.\")"
      ],
      "metadata": {
        "colab": {
          "base_uri": "https://localhost:8080/"
        },
        "id": "mi7sA5lHtrwS",
        "outputId": "7beb4b79-123e-43e8-b630-dd7ad2900848"
      },
      "execution_count": null,
      "outputs": [
        {
          "output_type": "stream",
          "name": "stdout",
          "text": [
            "The project cost is $ 21.599999999999998.\n"
          ]
        }
      ]
    },
    {
      "cell_type": "markdown",
      "source": [
        "# Question 5\n",
        "Now say you can no longer buy fractions of a gallon. (For instance, if you need 4.3 gallons to do a project, then you have to buy 5 gallons of paint.)\n",
        "\n",
        "With this new scenario, you will create a new function get_actual_cost that uses the same inputs and calculates the cost of your project."
      ],
      "metadata": {
        "id": "GvUQQbIWvjKk"
      }
    },
    {
      "cell_type": "markdown",
      "source": [
        "# Pseudo code\n",
        "*   import math module so as to use in-built math functions.\n",
        "*   create a function get_actual_cost with the arguments: sqft_walls, sqft_ceiling, sqft_per_gallon, cost_per_gallon.\n",
        "*   create a variable \"actual_gallons\" that calculates the number of gallons used rounded up using math.ceil()\n",
        "*   create another variable cost that now calculates the total cost using the number of rounded gallons.\n",
        "*   to test create a new variable \"house_one\" that calls the function with it's arguments.\n",
        "*    print the total cost of painting the house."
      ],
      "metadata": {
        "id": "5HgfUsJHvwiW"
      }
    },
    {
      "cell_type": "code",
      "source": [
        "import math\n",
        "def get_actual_cost(sqft_walls, sqft_ceiling, sqft_per_gallon, cost_per_gallon):\n",
        "    actual_gallons = math.ceil(((sqft_walls + sqft_ceiling)/sqft_per_gallon))\n",
        "    cost = actual_gallons * cost_per_gallon\n",
        "    return cost\n",
        "house_one = get_actual_cost(432, 144, 400, 15)\n",
        "house_two = get_actual_cost(594, 288, 400, 15)\n",
        "print(f\"The total cost of painting house one is $ {house_one}.\")\n",
        "print(f\"The total cost of painting house two is $ {house_two}.\")"
      ],
      "metadata": {
        "colab": {
          "base_uri": "https://localhost:8080/"
        },
        "id": "q6bYhqe-xdoX",
        "outputId": "e0cdd559-0fe6-4ffd-8c17-3d5988053fb8"
      },
      "execution_count": null,
      "outputs": [
        {
          "output_type": "stream",
          "name": "stdout",
          "text": [
            "The total cost of painting house one is $ 30.\n",
            "The total cost of painting house two is $ 45.\n"
          ]
        }
      ]
    }
  ]
}