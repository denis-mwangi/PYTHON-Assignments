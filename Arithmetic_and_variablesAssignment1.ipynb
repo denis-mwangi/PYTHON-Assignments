{
  "nbformat": 4,
  "nbformat_minor": 0,
  "metadata": {
    "colab": {
      "provenance": [],
      "authorship_tag": "ABX9TyP0v5hztXhMqFq/55Mj19/v",
      "include_colab_link": true
    },
    "kernelspec": {
      "name": "python3",
      "display_name": "Python 3"
    },
    "language_info": {
      "name": "python"
    }
  },
  "cells": [
    {
      "cell_type": "markdown",
      "metadata": {
        "id": "view-in-github",
        "colab_type": "text"
      },
      "source": [
        "<a href=\"https://colab.research.google.com/github/denis-mwangi/PYTHON-Assignments/blob/main/Arithmetic_and_variablesAssignment1.ipynb\" target=\"_parent\"><img src=\"https://colab.research.google.com/assets/colab-badge.svg\" alt=\"Open In Colab\"/></a>"
      ]
    },
    {
      "cell_type": "markdown",
      "source": [
        "Question 1\n",
        "printing a \"Hello world\" program"
      ],
      "metadata": {
        "id": "ZsfPW8_DkPMn"
      }
    },
    {
      "cell_type": "code",
      "source": [
        "print(\"Hello, world!\")"
      ],
      "metadata": {
        "colab": {
          "base_uri": "https://localhost:8080/"
        },
        "id": "o6Ek78MokUgs",
        "outputId": "a5ddeae1-4a48-4311-a7af-9d22c1f8db2b"
      },
      "execution_count": null,
      "outputs": [
        {
          "output_type": "stream",
          "name": "stdout",
          "text": [
            "Hello, world!\n"
          ]
        }
      ]
    },
    {
      "cell_type": "markdown",
      "source": [
        "Question 2 printiung a message"
      ],
      "metadata": {
        "id": "BAZtfMB_lYUA"
      }
    },
    {
      "cell_type": "code",
      "source": [
        "print(\"Evening, I am Dennis.\")"
      ],
      "metadata": {
        "colab": {
          "base_uri": "https://localhost:8080/"
        },
        "id": "fs2stmzClmfh",
        "outputId": "1e482988-d89a-47fa-a0e4-d26e84228f39"
      },
      "execution_count": null,
      "outputs": [
        {
          "output_type": "stream",
          "name": "stdout",
          "text": [
            "Evening, I am Dennis.\n"
          ]
        }
      ]
    },
    {
      "cell_type": "markdown",
      "source": [
        "Question 3 Calculating average births per day"
      ],
      "metadata": {
        "id": "-AAoEtremVfq"
      }
    },
    {
      "cell_type": "code",
      "source": [
        "hours_per_day = 24\n",
        "mins_per_hour = 60\n",
        "births_per_min = 250\n",
        "births_per_day = births_per_min * (hours_per_day * mins_per_hour)\n",
        "print(f\"The average births per day is {births_per_day}\")"
      ],
      "metadata": {
        "colab": {
          "base_uri": "https://localhost:8080/"
        },
        "id": "SgjJ1fdYmaZ2",
        "outputId": "b6fe4e94-a906-4d62-ea12-50aae6c123b9"
      },
      "execution_count": null,
      "outputs": [
        {
          "output_type": "stream",
          "name": "stdout",
          "text": [
            "The average births per minute is 360000\n"
          ]
        }
      ]
    },
    {
      "cell_type": "markdown",
      "source": [
        "Question 5 Fractions of people tha survived the titanic\n",
        "declare variables for total\n"
      ],
      "metadata": {
        "id": "G_H13MQIrQZh"
      }
    },
    {
      "cell_type": "code",
      "source": [
        "total = 891\n",
        "survived = 342\n",
        "minors = 113\n",
        "survived_fraction = survived / total\n",
        "minors_fraction = minors / total\n",
        "print(f\"The fraction of people survived is {survived_fraction}.\")\n",
        "print(f\"The fraction of minors survived is {minors_fraction}.\")"
      ],
      "metadata": {
        "colab": {
          "base_uri": "https://localhost:8080/"
        },
        "id": "ltTLFsEYrYUz",
        "outputId": "31b01f3b-8388-4d02-bbdb-55ba1b8ac179"
      },
      "execution_count": null,
      "outputs": [
        {
          "output_type": "stream",
          "name": "stdout",
          "text": [
            "The fraction of people survived is 0.3838383838383838.\n",
            "The fraction of minors survived is 0.12682379349046016.\n"
          ]
        }
      ]
    }
  ]
}